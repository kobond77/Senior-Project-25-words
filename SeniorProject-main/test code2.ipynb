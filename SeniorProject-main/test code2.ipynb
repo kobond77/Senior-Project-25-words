{
 "cells": [
  {
   "cell_type": "code",
   "execution_count": null,
   "id": "1a3eb929",
   "metadata": {},
   "outputs": [],
   "source": [
    "# 1. New detection variables\n",
    "lh = []\n",
    "rh = []\n",
    "sentence = []\n",
    "detecting= True\n",
    "threshold = 0.5\n",
    "now_sign=[]\n",
    "font=cv2.FONT_HERSHEY_SIMPLEX\n",
    "frame_num_array=[]\n",
    "color=(0,255,0)\n",
    "size = 1\n",
    "thickness=2\n",
    "while True:\n",
    "    frame, hands, bag = tracker.next_frame()\n",
    "    hand = renderer.draw(frame, hands, bag)\n",
    "    key = renderer.waitKey(delay=1)\n",
    "    if frame is None: break\n",
    "    # Draw hands\n",
    "    frame_num = tracker.fps.nb_frames()\n",
    "    frame_num_array.append(frame_num)\n",
    "    frame_count = frame_num - frame_num_array[0]\n",
    "    # predictions logic\n",
    "    if frame_count > 0  : \n",
    "        if len(lh) == 45 & len(rh) == 45:\n",
    "            detecting=False\n",
    "            lh_used=lh[-30:]\n",
    "            rh_used=rh[-30:]\n",
    "            lrh = np.concatenate([lh_used,rh_used])\n",
    "            lrh_used = lrh.reshape(lrh.shape[0],-1)\n",
    "            if len(lrh) == 60:\n",
    "                res = sign_model.predict(np.expand_dims(lrh_used, axis=0))[0]\n",
    "                predicted_sign = actions[np.argmax(res)]\n",
    "                confidence = res[np.argmax(res)]\n",
    "                if (confidence > threshold) : \n",
    "                    print(predicted_sign)\n",
    "                    print(confidence)\n",
    "                    cv2.putText(frame,'{}'.format(predicted_sign),(15,30)\n",
    "                                     , cv2.FONT_HERSHEY_SIMPLEX, 1, (0,255, 0), 4, cv2.LINE_AA)\n",
    "                    now_sign=[actions[np.argmax(res)]]\n",
    "            lh = []\n",
    "            rh = []\n",
    "            cv2.waitKey(500)\n",
    "        else :\n",
    "            if detecting == False :\n",
    "                print('detecting')\n",
    "                detecting = True\n",
    "            else:\n",
    "                \n",
    "                lh_data,rh_data = extractData(hands)\n",
    "                lh.append(lh_data)\n",
    "                rh.append(rh_data)\n",
    "    if key == 27 or key == ord('q'):\n",
    "        break\n",
    "renderer.exit()"
   ]
  }
 ],
 "metadata": {
  "kernelspec": {
   "display_name": "Python 3",
   "language": "python",
   "name": "python3"
  },
  "language_info": {
   "codemirror_mode": {
    "name": "ipython",
    "version": 3
   },
   "file_extension": ".py",
   "mimetype": "text/x-python",
   "name": "python",
   "nbconvert_exporter": "python",
   "pygments_lexer": "ipython3",
   "version": "3.8.8"
  }
 },
 "nbformat": 4,
 "nbformat_minor": 5
}
